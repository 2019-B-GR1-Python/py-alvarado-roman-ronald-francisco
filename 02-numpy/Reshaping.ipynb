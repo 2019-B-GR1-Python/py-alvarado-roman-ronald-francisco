{
 "cells": [
  {
   "cell_type": "code",
   "execution_count": 1,
   "metadata": {},
   "outputs": [],
   "source": [
    "import numpy as np"
   ]
  },
  {
   "cell_type": "code",
   "execution_count": 2,
   "metadata": {},
   "outputs": [],
   "source": [
    "paises_uno = ('Ecuador', 'USA', 'Cuba', 'Vnezuela')"
   ]
  },
  {
   "cell_type": "code",
   "execution_count": 3,
   "metadata": {},
   "outputs": [],
   "source": [
    "paises_dos = ('Brazil;', 'China', 'Japon', 'Mexico')"
   ]
  },
  {
   "cell_type": "code",
   "execution_count": 4,
   "metadata": {},
   "outputs": [
    {
     "data": {
      "text/plain": [
       "array([['Ecuador', 'USA', 'Cuba', 'Vnezuela'],\n",
       "       ['Brazil;', 'China', 'Japon', 'Mexico']], dtype='<U8')"
      ]
     },
     "execution_count": 4,
     "metadata": {},
     "output_type": "execute_result"
    }
   ],
   "source": [
    "arreglo_paises_2d = np.array([paises_uno, paises_dos])\n",
    "arreglo_paises_2d"
   ]
  },
  {
   "cell_type": "code",
   "execution_count": 5,
   "metadata": {},
   "outputs": [
    {
     "data": {
      "text/plain": [
       "(2, 4)"
      ]
     },
     "execution_count": 5,
     "metadata": {},
     "output_type": "execute_result"
    }
   ],
   "source": [
    "arreglo_paises_2d.shape"
   ]
  },
  {
   "cell_type": "code",
   "execution_count": 6,
   "metadata": {},
   "outputs": [
    {
     "data": {
      "text/plain": [
       "(8,)"
      ]
     },
     "execution_count": 6,
     "metadata": {},
     "output_type": "execute_result"
    }
   ],
   "source": [
    "arreglo_paises_2d.flatten().shape"
   ]
  },
  {
   "cell_type": "code",
   "execution_count": 7,
   "metadata": {},
   "outputs": [
    {
     "data": {
      "text/plain": [
       "array([[['Ecuador', 'USA'],\n",
       "        ['Cuba', 'Vnezuela']],\n",
       "\n",
       "       [['Brazil;', 'China'],\n",
       "        ['Japon', 'Mexico']]], dtype='<U8')"
      ]
     },
     "execution_count": 7,
     "metadata": {},
     "output_type": "execute_result"
    }
   ],
   "source": [
    "arreglo_paises_2d.flatten().reshape(2,2,2)"
   ]
  },
  {
   "cell_type": "code",
   "execution_count": 9,
   "metadata": {},
   "outputs": [
    {
     "data": {
      "text/plain": [
       "array([['Ecuador', 'USA'],\n",
       "       ['Cuba', 'Vnezuela'],\n",
       "       ['Brazil;', 'China'],\n",
       "       ['Japon', 'Mexico']], dtype='<U8')"
      ]
     },
     "execution_count": 9,
     "metadata": {},
     "output_type": "execute_result"
    }
   ],
   "source": [
    "arreglo_paises_2d.flatten().reshape(\n",
    "    4,\n",
    "    -1 # Llename con lo que puedas\n",
    ")"
   ]
  },
  {
   "cell_type": "code",
   "execution_count": 10,
   "metadata": {},
   "outputs": [
    {
     "data": {
      "text/plain": [
       "array([['Ecuador', 'USA', 'Cuba', 'Vnezuela'],\n",
       "       ['Brazil;', 'China', 'Japon', 'Mexico']], dtype='<U8')"
      ]
     },
     "execution_count": 10,
     "metadata": {},
     "output_type": "execute_result"
    }
   ],
   "source": [
    "arreglo_paises_2d.flatten().reshape(\n",
    "    -1,\n",
    "    4 # Llename con lo que puedas\n",
    ")"
   ]
  },
  {
   "cell_type": "code",
   "execution_count": 11,
   "metadata": {},
   "outputs": [
    {
     "data": {
      "text/plain": [
       "array([[['Ecuador', 'USA'],\n",
       "        ['Cuba', 'Vnezuela']],\n",
       "\n",
       "       [['Brazil;', 'China'],\n",
       "        ['Japon', 'Mexico']]], dtype='<U8')"
      ]
     },
     "execution_count": 11,
     "metadata": {},
     "output_type": "execute_result"
    }
   ],
   "source": [
    "arreglo_paises_2d.flatten().reshape(\n",
    "    2,\n",
    "    2,\n",
    "    -1 # Llename con lo que puedas\n",
    ")"
   ]
  },
  {
   "cell_type": "code",
   "execution_count": 12,
   "metadata": {},
   "outputs": [
    {
     "name": "stdout",
     "output_type": "stream",
     "text": [
      "[['Ecuador' 'USA' 'Cuba' 'Vnezuela']\n",
      " ['Brazil;' 'China' 'Japon' 'Mexico']]\n",
      "[['Ecuador' 'Brazil;']\n",
      " ['USA' 'China']\n",
      " ['Cuba' 'Japon']\n",
      " ['Vnezuela' 'Mexico']]\n"
     ]
    }
   ],
   "source": [
    "print(arreglo_paises_2d)\n",
    "print(arreglo_paises_2d.T)"
   ]
  },
  {
   "cell_type": "code",
   "execution_count": 13,
   "metadata": {},
   "outputs": [
    {
     "data": {
      "text/plain": [
       "[array([['Ecuador', 'USA', 'Cuba', 'Vnezuela']], dtype='<U8'),\n",
       " array([['Brazil;', 'China', 'Japon', 'Mexico']], dtype='<U8')]"
      ]
     },
     "execution_count": 13,
     "metadata": {},
     "output_type": "execute_result"
    }
   ],
   "source": [
    "np.split(arreglo_paises_2d, 2)"
   ]
  },
  {
   "cell_type": "code",
   "execution_count": 15,
   "metadata": {},
   "outputs": [
    {
     "data": {
      "text/plain": [
       "[array(['Ecuador'], dtype='<U8'),\n",
       " array(['USA'], dtype='<U8'),\n",
       " array(['Cuba'], dtype='<U8'),\n",
       " array(['Vnezuela'], dtype='<U8'),\n",
       " array(['Brazil;'], dtype='<U8'),\n",
       " array(['China'], dtype='<U8'),\n",
       " array(['Japon'], dtype='<U8'),\n",
       " array(['Mexico'], dtype='<U8')]"
      ]
     },
     "execution_count": 15,
     "metadata": {},
     "output_type": "execute_result"
    }
   ],
   "source": [
    "np.split(arreglo_paises_2d.flatten(), 8)"
   ]
  },
  {
   "cell_type": "code",
   "execution_count": 17,
   "metadata": {},
   "outputs": [
    {
     "data": {
      "text/plain": [
       "[array(['Ecuador', 'USA'], dtype='<U8'),\n",
       " array(['Cuba', 'Vnezuela'], dtype='<U8'),\n",
       " array(['Brazil;', 'China'], dtype='<U8'),\n",
       " array(['Japon', 'Mexico'], dtype='<U8')]"
      ]
     },
     "execution_count": 17,
     "metadata": {},
     "output_type": "execute_result"
    }
   ],
   "source": [
    "np.split(arreglo_paises_2d.flatten(), 4)"
   ]
  },
  {
   "cell_type": "code",
   "execution_count": 18,
   "metadata": {},
   "outputs": [
    {
     "data": {
      "text/plain": [
       "[array(['Ecuador'], dtype='<U8'),\n",
       " array(['USA'], dtype='<U8'),\n",
       " array(['Cuba', 'Vnezuela', 'Brazil;', 'China'], dtype='<U8'),\n",
       " array(['Japon'], dtype='<U8'),\n",
       " array(['Mexico'], dtype='<U8')]"
      ]
     },
     "execution_count": 18,
     "metadata": {},
     "output_type": "execute_result"
    }
   ],
   "source": [
    "np.split(arreglo_paises_2d.flatten(), \n",
    "         [\n",
    "             1,\n",
    "             2,\n",
    "             6,\n",
    "             7\n",
    "         ])"
   ]
  },
  {
   "cell_type": "code",
   "execution_count": 19,
   "metadata": {},
   "outputs": [
    {
     "data": {
      "text/plain": [
       "array([['Ecuador', 'USA', 'Cuba', 'Vnezuela'],\n",
       "       ['Brazil;', 'China', 'Japon', 'Mexico']], dtype='<U8')"
      ]
     },
     "execution_count": 19,
     "metadata": {},
     "output_type": "execute_result"
    }
   ],
   "source": [
    "arreglo_paises_2d"
   ]
  },
  {
   "cell_type": "code",
   "execution_count": 27,
   "metadata": {},
   "outputs": [
    {
     "name": "stdout",
     "output_type": "stream",
     "text": [
      "[['Ecuador']\n",
      " ['Brazil;']]\n",
      "[['USA']\n",
      " ['China']]\n",
      "[['Cuba']\n",
      " ['Japon']]\n",
      "[['Vnezuela']\n",
      " ['Mexico']]\n"
     ]
    }
   ],
   "source": [
    "arr1, arr2, arr3, arr4 = np.hsplit(arreglo_paises_2d, 4)\n",
    "print(arr1)\n",
    "print(arr2)\n",
    "print(arr3)\n",
    "print(arr4)"
   ]
  },
  {
   "cell_type": "code",
   "execution_count": 29,
   "metadata": {},
   "outputs": [
    {
     "name": "stdout",
     "output_type": "stream",
     "text": [
      "[['Ecuador' 'USA' 'Cuba' 'Vnezuela']]\n",
      "[['Brazil;' 'China' 'Japon' 'Mexico']]\n"
     ]
    }
   ],
   "source": [
    "arr1, arr2 = np.vsplit(arreglo_paises_2d, 2)\n",
    "print(arr1)\n",
    "print(arr2)"
   ]
  },
  {
   "cell_type": "code",
   "execution_count": null,
   "metadata": {},
   "outputs": [],
   "source": []
  },
  {
   "cell_type": "code",
   "execution_count": null,
   "metadata": {},
   "outputs": [],
   "source": []
  },
  {
   "cell_type": "code",
   "execution_count": null,
   "metadata": {},
   "outputs": [],
   "source": []
  },
  {
   "cell_type": "code",
   "execution_count": null,
   "metadata": {},
   "outputs": [],
   "source": []
  },
  {
   "cell_type": "code",
   "execution_count": null,
   "metadata": {},
   "outputs": [],
   "source": []
  },
  {
   "cell_type": "code",
   "execution_count": null,
   "metadata": {},
   "outputs": [],
   "source": []
  },
  {
   "cell_type": "code",
   "execution_count": null,
   "metadata": {},
   "outputs": [],
   "source": []
  },
  {
   "cell_type": "code",
   "execution_count": null,
   "metadata": {},
   "outputs": [],
   "source": []
  },
  {
   "cell_type": "code",
   "execution_count": null,
   "metadata": {},
   "outputs": [],
   "source": []
  },
  {
   "cell_type": "code",
   "execution_count": null,
   "metadata": {},
   "outputs": [],
   "source": []
  },
  {
   "cell_type": "code",
   "execution_count": null,
   "metadata": {},
   "outputs": [],
   "source": []
  }
 ],
 "metadata": {
  "kernelspec": {
   "display_name": "Python 3",
   "language": "python",
   "name": "python3"
  },
  "language_info": {
   "codemirror_mode": {
    "name": "ipython",
    "version": 3
   },
   "file_extension": ".py",
   "mimetype": "text/x-python",
   "name": "python",
   "nbconvert_exporter": "python",
   "pygments_lexer": "ipython3",
   "version": "3.7.3"
  }
 },
 "nbformat": 4,
 "nbformat_minor": 2
}
